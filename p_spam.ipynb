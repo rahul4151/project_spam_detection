{
 "cells": [
  {
   "cell_type": "code",
   "execution_count": 27,
   "metadata": {},
   "outputs": [],
   "source": [
    "import pandas as pd\n",
    "from nltk import word_tokenize\n",
    "from string import punctuation\n",
    "from nltk.corpus import stopwords\n",
    "from sklearn.feature_extraction.text import CountVectorizer\n",
    "from sklearn.naive_bayes import MultinomialNB,GaussianNB,BernoulliNB\n",
    "from sklearn.metrics import classification_report,accuracy_score\n",
    "from sklearn.model_selection import train_test_split\n"
   ]
  },
  {
   "cell_type": "code",
   "execution_count": 3,
   "metadata": {},
   "outputs": [
    {
     "data": {
      "text/html": [
       "<div>\n",
       "<style scoped>\n",
       "    .dataframe tbody tr th:only-of-type {\n",
       "        vertical-align: middle;\n",
       "    }\n",
       "\n",
       "    .dataframe tbody tr th {\n",
       "        vertical-align: top;\n",
       "    }\n",
       "\n",
       "    .dataframe thead th {\n",
       "        text-align: right;\n",
       "    }\n",
       "</style>\n",
       "<table border=\"1\" class=\"dataframe\">\n",
       "  <thead>\n",
       "    <tr style=\"text-align: right;\">\n",
       "      <th></th>\n",
       "      <th>Category</th>\n",
       "      <th>Message</th>\n",
       "    </tr>\n",
       "  </thead>\n",
       "  <tbody>\n",
       "    <tr>\n",
       "      <th>0</th>\n",
       "      <td>ham</td>\n",
       "      <td>Go until jurong point, crazy.. Available only ...</td>\n",
       "    </tr>\n",
       "    <tr>\n",
       "      <th>1</th>\n",
       "      <td>ham</td>\n",
       "      <td>Ok lar... Joking wif u oni...</td>\n",
       "    </tr>\n",
       "    <tr>\n",
       "      <th>2</th>\n",
       "      <td>spam</td>\n",
       "      <td>Free entry in 2 a wkly comp to win FA Cup fina...</td>\n",
       "    </tr>\n",
       "  </tbody>\n",
       "</table>\n",
       "</div>"
      ],
      "text/plain": [
       "  Category                                            Message\n",
       "0      ham  Go until jurong point, crazy.. Available only ...\n",
       "1      ham                      Ok lar... Joking wif u oni...\n",
       "2     spam  Free entry in 2 a wkly comp to win FA Cup fina..."
      ]
     },
     "execution_count": 3,
     "metadata": {},
     "output_type": "execute_result"
    }
   ],
   "source": [
    "data = pd.read_csv(\"spam_ap24.csv\")\n",
    "data.head(3)"
   ]
  },
  {
   "cell_type": "code",
   "execution_count": 7,
   "metadata": {},
   "outputs": [
    {
     "name": "stdout",
     "output_type": "stream",
     "text": [
      "Category    0\n",
      "Message     0\n",
      "dtype: int64\n"
     ]
    }
   ],
   "source": [
    "print(data.isnull().sum())"
   ]
  },
  {
   "cell_type": "code",
   "execution_count": 8,
   "metadata": {},
   "outputs": [
    {
     "name": "stdout",
     "output_type": "stream",
     "text": [
      "415\n"
     ]
    }
   ],
   "source": [
    "print(data.duplicated().sum())\n",
    "data.drop_duplicates(keep=\"first\",inplace = True)"
   ]
  },
  {
   "cell_type": "code",
   "execution_count": 9,
   "metadata": {},
   "outputs": [
    {
     "name": "stdout",
     "output_type": "stream",
     "text": [
      "0\n"
     ]
    }
   ],
   "source": [
    "print(data.duplicated().sum())"
   ]
  },
  {
   "cell_type": "code",
   "execution_count": 11,
   "metadata": {},
   "outputs": [
    {
     "data": {
      "text/plain": [
       "Category\n",
       "ham     4516\n",
       "spam     641\n",
       "Name: count, dtype: int64"
      ]
     },
     "execution_count": 11,
     "metadata": {},
     "output_type": "execute_result"
    }
   ],
   "source": [
    "data[\"Category\"].value_counts()"
   ]
  },
  {
   "cell_type": "code",
   "execution_count": 12,
   "metadata": {},
   "outputs": [],
   "source": [
    "import matplotlib.pyplot as plt"
   ]
  },
  {
   "cell_type": "code",
   "execution_count": 15,
   "metadata": {},
   "outputs": [
    {
     "data": {
      "image/png": "[encoded data removed]",
      "text/plain": [
       "<Figure size 640x480 with 1 Axes>"
      ]
     },
     "metadata": {},
     "output_type": "display_data"
    }
   ],
   "source": [
    "plt.pie(data['Category'].value_counts(),labels=['ham','spam'],autopct='%0.2f')\n",
    "plt.show()"
   ]
  },
  {
   "cell_type": "code",
   "execution_count": 22,
   "metadata": {},
   "outputs": [
    {
     "data": {
      "text/html": [
       "<div>\n",
       "<style scoped>\n",
       "    .dataframe tbody tr th:only-of-type {\n",
       "        vertical-align: middle;\n",
       "    }\n",
       "\n",
       "    .dataframe tbody tr th {\n",
       "        vertical-align: top;\n",
       "    }\n",
       "\n",
       "    .dataframe thead th {\n",
       "        text-align: right;\n",
       "    }\n",
       "</style>\n",
       "<table border=\"1\" class=\"dataframe\">\n",
       "  <thead>\n",
       "    <tr style=\"text-align: right;\">\n",
       "      <th></th>\n",
       "      <th>Category</th>\n",
       "      <th>Message</th>\n",
       "      <th>clean_Message</th>\n",
       "    </tr>\n",
       "  </thead>\n",
       "  <tbody>\n",
       "    <tr>\n",
       "      <th>0</th>\n",
       "      <td>ham</td>\n",
       "      <td>Go until jurong point, crazy.. Available only ...</td>\n",
       "      <td>go jurong point crazy .. available bugis n gre...</td>\n",
       "    </tr>\n",
       "    <tr>\n",
       "      <th>1</th>\n",
       "      <td>ham</td>\n",
       "      <td>Ok lar... Joking wif u oni...</td>\n",
       "      <td>ok lar ... joking wif u oni ...</td>\n",
       "    </tr>\n",
       "    <tr>\n",
       "      <th>2</th>\n",
       "      <td>spam</td>\n",
       "      <td>Free entry in 2 a wkly comp to win FA Cup fina...</td>\n",
       "      <td>free entry 2 wkly comp win fa cup final tkts 2...</td>\n",
       "    </tr>\n",
       "  </tbody>\n",
       "</table>\n",
       "</div>"
      ],
      "text/plain": [
       "  Category                                            Message  \\\n",
       "0      ham  Go until jurong point, crazy.. Available only ...   \n",
       "1      ham                      Ok lar... Joking wif u oni...   \n",
       "2     spam  Free entry in 2 a wkly comp to win FA Cup fina...   \n",
       "\n",
       "                                       clean_Message  \n",
       "0  go jurong point crazy .. available bugis n gre...  \n",
       "1                    ok lar ... joking wif u oni ...  \n",
       "2  free entry 2 wkly comp win fa cup final tkts 2...  "
      ]
     },
     "execution_count": 22,
     "metadata": {},
     "output_type": "execute_result"
    }
   ],
   "source": [
    "\n",
    "def clean_Message(txt):\n",
    "    txt = txt.lower()\n",
    "    txt = word_tokenize(txt)\n",
    "    txt = [t for t in txt if t not in stopwords.words(\"english\")]\n",
    "    txt = [t for t in txt if t not in punctuation]\n",
    "    txt = (\" \").join(txt)\n",
    "    return txt\n",
    "\n",
    "data[\"clean_Message\"] = data[\"Message\"].apply(clean_Message)\n",
    "data.head(3)"
   ]
  },
  {
   "cell_type": "code",
   "execution_count": null,
   "metadata": {},
   "outputs": [],
   "source": [
    "# data.rename(columns={'Category':'target','Message' :'text'},inplace = True)"
   ]
  },
  {
   "cell_type": "code",
   "execution_count": 23,
   "metadata": {},
   "outputs": [
    {
     "name": "stdout",
     "output_type": "stream",
     "text": [
      "      00  000  000pes  008704050406  0089  0121  01223585236  01223585334  \\\n",
      "0      0    0       0             0     0     0            0            0   \n",
      "1      0    0       0             0     0     0            0            0   \n",
      "2      0    0       0             0     0     0            0            0   \n",
      "3      0    0       0             0     0     0            0            0   \n",
      "4      0    0       0             0     0     0            0            0   \n",
      "...   ..  ...     ...           ...   ...   ...          ...          ...   \n",
      "5152   0    0       0             0     0     0            0            0   \n",
      "5153   0    0       0             0     0     0            0            0   \n",
      "5154   0    0       0             0     0     0            0            0   \n",
      "5155   0    0       0             0     0     0            0            0   \n",
      "5156   0    0       0             0     0     0            0            0   \n",
      "\n",
      "      0125698789  02  ...  zhong  zindgi  zoe  zogtorius  zoom  zouk  zyada  \\\n",
      "0              0   0  ...      0       0    0          0     0     0      0   \n",
      "1              0   0  ...      0       0    0          0     0     0      0   \n",
      "2              0   0  ...      0       0    0          0     0     0      0   \n",
      "3              0   0  ...      0       0    0          0     0     0      0   \n",
      "4              0   0  ...      0       0    0          0     0     0      0   \n",
      "...          ...  ..  ...    ...     ...  ...        ...   ...   ...    ...   \n",
      "5152           0   0  ...      0       0    0          0     0     0      0   \n",
      "5153           0   0  ...      0       0    0          0     0     0      0   \n",
      "5154           0   0  ...      0       0    0          0     0     0      0   \n",
      "5155           0   0  ...      0       0    0          0     0     0      0   \n",
      "5156           0   0  ...      0       0    0          0     0     0      0   \n",
      "\n",
      "      èn  ú1  〨ud  \n",
      "0      0   0    0  \n",
      "1      0   0    0  \n",
      "2      0   0    0  \n",
      "3      0   0    0  \n",
      "4      0   0    0  \n",
      "...   ..  ..  ...  \n",
      "5152   0   0    0  \n",
      "5153   0   0    0  \n",
      "5154   0   0    0  \n",
      "5155   0   0    0  \n",
      "5156   0   0    0  \n",
      "\n",
      "[5157 rows x 8640 columns]\n"
     ]
    }
   ],
   "source": [
    "cv = CountVectorizer()\n",
    "vectors = cv.fit_transform(data[\"clean_Message\"])\n",
    "features = pd.DataFrame(vectors.toarray(),columns=cv.get_feature_names_out())\n",
    "print(features)\n",
    "target = data[\"Category\"]"
   ]
  },
  {
   "cell_type": "code",
   "execution_count": 24,
   "metadata": {},
   "outputs": [],
   "source": [
    "x_train , x_test , y_train, y_test = train_test_split(features.values,target)"
   ]
  },
  {
   "cell_type": "code",
   "execution_count": 30,
   "metadata": {},
   "outputs": [
    {
     "name": "stdout",
     "output_type": "stream",
     "text": [
      "              precision    recall  f1-score   support\n",
      "\n",
      "         ham       1.00      1.00      1.00      1113\n",
      "        spam       0.99      0.99      0.99       177\n",
      "\n",
      "    accuracy                           1.00      1290\n",
      "   macro avg       0.99      1.00      1.00      1290\n",
      "weighted avg       1.00      1.00      1.00      1290\n",
      "\n",
      "s1 training score =  0.978536333074735\n",
      "s2 testing score  =  0.9976744186046511\n"
     ]
    }
   ],
   "source": [
    "model = MultinomialNB()\n",
    "model.fit(x_test,y_test)\n",
    "cr = classification_report(y_test,model.predict(x_test))\n",
    "print(cr)\n",
    "s1 = accuracy_score(y_train,model.predict(x_train))\n",
    "s2 = accuracy_score(y_test,model.predict(x_test))\n",
    "print(\"s1 training score = \",s1)\n",
    "print(\"s2 testing score  = \",s2)"
   ]
  },
  {
   "cell_type": "code",
   "execution_count": 31,
   "metadata": {},
   "outputs": [
    {
     "name": "stdout",
     "output_type": "stream",
     "text": [
      "              precision    recall  f1-score   support\n",
      "\n",
      "         ham       0.90      1.00      0.95      1113\n",
      "        spam       1.00      0.29      0.45       177\n",
      "\n",
      "    accuracy                           0.90      1290\n",
      "   macro avg       0.95      0.65      0.70      1290\n",
      "weighted avg       0.91      0.90      0.88      1290\n",
      "\n",
      "s1 training score =  0.9022498060512025\n",
      "s2 testing score  =  0.9031007751937985\n"
     ]
    }
   ],
   "source": [
    "model = BernoulliNB()\n",
    "model.fit(x_test,y_test)\n",
    "cr = classification_report(y_test,model.predict(x_test))\n",
    "print(cr)\n",
    "s1 = accuracy_score(y_train,model.predict(x_train))\n",
    "s2 = accuracy_score(y_test,model.predict(x_test))\n",
    "print(\"s1 training score = \",s1)\n",
    "print(\"s2 testing score  = \",s2)"
   ]
  },
  {
   "cell_type": "code",
   "execution_count": 32,
   "metadata": {},
   "outputs": [
    {
     "name": "stdout",
     "output_type": "stream",
     "text": [
      "              precision    recall  f1-score   support\n",
      "\n",
      "         ham       1.00      0.97      0.98      1113\n",
      "        spam       0.83      1.00      0.91       177\n",
      "\n",
      "    accuracy                           0.97      1290\n",
      "   macro avg       0.91      0.98      0.94      1290\n",
      "weighted avg       0.98      0.97      0.97      1290\n",
      "\n",
      "s1 training score =  0.8975950349107835\n",
      "s2 testing score  =  0.9713178294573643\n"
     ]
    }
   ],
   "source": [
    "model = GaussianNB()\n",
    "model.fit(x_test,y_test)\n",
    "cr = classification_report(y_test,model.predict(x_test))\n",
    "print(cr)\n",
    "s1 = accuracy_score(y_train,model.predict(x_train))\n",
    "s2 = accuracy_score(y_test,model.predict(x_test))\n",
    "print(\"s1 training score = \",s1)\n",
    "print(\"s2 testing score  = \",s2)"
   ]
  },
  {
   "cell_type": "code",
   "execution_count": 33,
   "metadata": {},
   "outputs": [],
   "source": [
    "from pickle import *"
   ]
  },
  {
   "cell_type": "code",
   "execution_count": 10,
   "metadata": {},
   "outputs": [],
   "source": [
    "f = open(\"vector.pkl\",\"wb\")\n",
    "dump(cv,f)\n",
    "f.close()"
   ]
  },
  {
   "cell_type": "code",
   "execution_count": 11,
   "metadata": {},
   "outputs": [],
   "source": [
    "f = open(\"model.pkl\",\"wb\")\n",
    "dump(model,f)\n",
    "f.close()"
   ]
  },
  {
   "cell_type": "code",
   "execution_count": 12,
   "metadata": {},
   "outputs": [],
   "source": [
    "f= open(\"model.pkl\",\"rb\")\n",
    "model = load(f)\n",
    "f.close()\n"
   ]
  },
  {
   "cell_type": "code",
   "execution_count": 13,
   "metadata": {},
   "outputs": [],
   "source": [
    "f = open(\"vector.pkl\",\"rb\")\n",
    "cv = load(f)\n",
    "f.close()\n"
   ]
  }
 ],
 "metadata": {
  "kernelspec": {
   "display_name": "Python 3",
   "language": "python",
   "name": "python3"
  },
  "language_info": {
   "codemirror_mode": {
    "name": "ipython",
    "version": 3
   },
   "file_extension": ".py",
   "mimetype": "text/x-python",
   "name": "python",
   "nbconvert_exporter": "python",
   "pygments_lexer": "ipython3",
   "version": "3.12.1"
  }
 },
 "nbformat": 4,
 "nbformat_minor": 2
}
